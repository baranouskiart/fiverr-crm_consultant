{
  "nbformat": 4,
  "nbformat_minor": 0,
  "metadata": {
    "colab": {
      "provenance": [],
      "authorship_tag": "ABX9TyNFyS9NxTUSEFx6pI+/3K0q",
      "include_colab_link": true
    },
    "kernelspec": {
      "name": "python3",
      "display_name": "Python 3"
    },
    "language_info": {
      "name": "python"
    }
  },
  "cells": [
    {
      "cell_type": "markdown",
      "metadata": {
        "id": "view-in-github",
        "colab_type": "text"
      },
      "source": [
        "<a href=\"https://colab.research.google.com/github/baranouskiart/fiverr-crm_consultant/blob/main/crm_exprerts_fiverr_2023.ipynb\" target=\"_parent\"><img src=\"https://colab.research.google.com/assets/colab-badge.svg\" alt=\"Open In Colab\"/></a>"
      ]
    },
    {
      "cell_type": "markdown",
      "source": [
        "## Task Description\n",
        "Source: https://github.com/baranouskiart/fiverr-crm_consultant/blob/main/fiverr.csv\n",
        "\n"
      ],
      "metadata": {
        "id": "eIONgfLfEnaz"
      }
    },
    {
      "cell_type": "code",
      "source": [
        "# Import necessary libraries\n",
        "import pandas as pd\n",
        "import matplotlib.pyplot as plt\n",
        "import seaborn as sns"
      ],
      "metadata": {
        "id": "Cd-F0s7bAKrT"
      },
      "execution_count": 45,
      "outputs": []
    },
    {
      "cell_type": "code",
      "source": [
        "url = 'https://raw.githubusercontent.com/baranouskiart/fiverr-crm_consultant/main/fiverr.csv'"
      ],
      "metadata": {
        "id": "ohY_RlKhBRgP"
      },
      "execution_count": 46,
      "outputs": []
    },
    {
      "cell_type": "code",
      "source": [
        "df = pd.read_csv(url, error_bad_lines=False)\n",
        "df.head(1)"
      ],
      "metadata": {
        "colab": {
          "base_uri": "https://localhost:8080/",
          "height": 335
        },
        "id": "nYatgODVAzFN",
        "outputId": "17e5eeee-eac7-4f1e-908b-83ecf83f680f"
      },
      "execution_count": 47,
      "outputs": [
        {
          "output_type": "stream",
          "name": "stderr",
          "text": [
            "<ipython-input-47-33584d05f30d>:1: FutureWarning: The error_bad_lines argument has been deprecated and will be removed in a future version. Use on_bad_lines in the future.\n",
            "\n",
            "\n",
            "  df = pd.read_csv(url, error_bad_lines=False)\n"
          ]
        },
        {
          "output_type": "execute_result",
          "data": {
            "text/plain": [
              "                                          media href Y1BXLWZ  \\\n",
              "0  https://www.fiverr.com/masdouk_zoho/be-your-zo...       M   \n",
              "\n",
              "                                         ziXAPIc src  \\\n",
              "0  https://fiverr-res.cloudinary.com/t_profile_th...   \n",
              "\n",
              "                                      text-bold href     mgCk4Qq   tbody-6  \\\n",
              "0  https://www.fiverr.com/masdouk_zoho?source=gig...  Masdouk A.  FIVERR'S   \n",
              "\n",
              "                                             Bh6SL1u  rating-score  \\\n",
              "0  I will be your zoho expert, zoho developer and...           5.0   \n",
              "\n",
              "  ratings-count  rating-count-number text-bold 2  \n",
              "0            ()                150.0         €96  "
            ],
            "text/html": [
              "\n",
              "\n",
              "  <div id=\"df-4e6f7ea6-9d15-4ac8-9a3b-04f9c93fd7ad\">\n",
              "    <div class=\"colab-df-container\">\n",
              "      <div>\n",
              "<style scoped>\n",
              "    .dataframe tbody tr th:only-of-type {\n",
              "        vertical-align: middle;\n",
              "    }\n",
              "\n",
              "    .dataframe tbody tr th {\n",
              "        vertical-align: top;\n",
              "    }\n",
              "\n",
              "    .dataframe thead th {\n",
              "        text-align: right;\n",
              "    }\n",
              "</style>\n",
              "<table border=\"1\" class=\"dataframe\">\n",
              "  <thead>\n",
              "    <tr style=\"text-align: right;\">\n",
              "      <th></th>\n",
              "      <th>media href</th>\n",
              "      <th>Y1BXLWZ</th>\n",
              "      <th>ziXAPIc src</th>\n",
              "      <th>text-bold href</th>\n",
              "      <th>mgCk4Qq</th>\n",
              "      <th>tbody-6</th>\n",
              "      <th>Bh6SL1u</th>\n",
              "      <th>rating-score</th>\n",
              "      <th>ratings-count</th>\n",
              "      <th>rating-count-number</th>\n",
              "      <th>text-bold 2</th>\n",
              "    </tr>\n",
              "  </thead>\n",
              "  <tbody>\n",
              "    <tr>\n",
              "      <th>0</th>\n",
              "      <td>https://www.fiverr.com/masdouk_zoho/be-your-zo...</td>\n",
              "      <td>M</td>\n",
              "      <td>https://fiverr-res.cloudinary.com/t_profile_th...</td>\n",
              "      <td>https://www.fiverr.com/masdouk_zoho?source=gig...</td>\n",
              "      <td>Masdouk A.</td>\n",
              "      <td>FIVERR'S</td>\n",
              "      <td>I will be your zoho expert, zoho developer and...</td>\n",
              "      <td>5.0</td>\n",
              "      <td>()</td>\n",
              "      <td>150.0</td>\n",
              "      <td>€96</td>\n",
              "    </tr>\n",
              "  </tbody>\n",
              "</table>\n",
              "</div>\n",
              "      <button class=\"colab-df-convert\" onclick=\"convertToInteractive('df-4e6f7ea6-9d15-4ac8-9a3b-04f9c93fd7ad')\"\n",
              "              title=\"Convert this dataframe to an interactive table.\"\n",
              "              style=\"display:none;\">\n",
              "\n",
              "  <svg xmlns=\"http://www.w3.org/2000/svg\" height=\"24px\"viewBox=\"0 0 24 24\"\n",
              "       width=\"24px\">\n",
              "    <path d=\"M0 0h24v24H0V0z\" fill=\"none\"/>\n",
              "    <path d=\"M18.56 5.44l.94 2.06.94-2.06 2.06-.94-2.06-.94-.94-2.06-.94 2.06-2.06.94zm-11 1L8.5 8.5l.94-2.06 2.06-.94-2.06-.94L8.5 2.5l-.94 2.06-2.06.94zm10 10l.94 2.06.94-2.06 2.06-.94-2.06-.94-.94-2.06-.94 2.06-2.06.94z\"/><path d=\"M17.41 7.96l-1.37-1.37c-.4-.4-.92-.59-1.43-.59-.52 0-1.04.2-1.43.59L10.3 9.45l-7.72 7.72c-.78.78-.78 2.05 0 2.83L4 21.41c.39.39.9.59 1.41.59.51 0 1.02-.2 1.41-.59l7.78-7.78 2.81-2.81c.8-.78.8-2.07 0-2.86zM5.41 20L4 18.59l7.72-7.72 1.47 1.35L5.41 20z\"/>\n",
              "  </svg>\n",
              "      </button>\n",
              "\n",
              "\n",
              "\n",
              "    <div id=\"df-6969d365-2b13-437d-a645-e3c7964d64ee\">\n",
              "      <button class=\"colab-df-quickchart\" onclick=\"quickchart('df-6969d365-2b13-437d-a645-e3c7964d64ee')\"\n",
              "              title=\"Suggest charts.\"\n",
              "              style=\"display:none;\">\n",
              "\n",
              "<svg xmlns=\"http://www.w3.org/2000/svg\" height=\"24px\"viewBox=\"0 0 24 24\"\n",
              "     width=\"24px\">\n",
              "    <g>\n",
              "        <path d=\"M19 3H5c-1.1 0-2 .9-2 2v14c0 1.1.9 2 2 2h14c1.1 0 2-.9 2-2V5c0-1.1-.9-2-2-2zM9 17H7v-7h2v7zm4 0h-2V7h2v10zm4 0h-2v-4h2v4z\"/>\n",
              "    </g>\n",
              "</svg>\n",
              "      </button>\n",
              "    </div>\n",
              "\n",
              "<style>\n",
              "  .colab-df-quickchart {\n",
              "    background-color: #E8F0FE;\n",
              "    border: none;\n",
              "    border-radius: 50%;\n",
              "    cursor: pointer;\n",
              "    display: none;\n",
              "    fill: #1967D2;\n",
              "    height: 32px;\n",
              "    padding: 0 0 0 0;\n",
              "    width: 32px;\n",
              "  }\n",
              "\n",
              "  .colab-df-quickchart:hover {\n",
              "    background-color: #E2EBFA;\n",
              "    box-shadow: 0px 1px 2px rgba(60, 64, 67, 0.3), 0px 1px 3px 1px rgba(60, 64, 67, 0.15);\n",
              "    fill: #174EA6;\n",
              "  }\n",
              "\n",
              "  [theme=dark] .colab-df-quickchart {\n",
              "    background-color: #3B4455;\n",
              "    fill: #D2E3FC;\n",
              "  }\n",
              "\n",
              "  [theme=dark] .colab-df-quickchart:hover {\n",
              "    background-color: #434B5C;\n",
              "    box-shadow: 0px 1px 3px 1px rgba(0, 0, 0, 0.15);\n",
              "    filter: drop-shadow(0px 1px 2px rgba(0, 0, 0, 0.3));\n",
              "    fill: #FFFFFF;\n",
              "  }\n",
              "</style>\n",
              "\n",
              "    <script>\n",
              "      async function quickchart(key) {\n",
              "        const containerElement = document.querySelector('#' + key);\n",
              "        const charts = await google.colab.kernel.invokeFunction(\n",
              "            'suggestCharts', [key], {});\n",
              "      }\n",
              "    </script>\n",
              "\n",
              "      <script>\n",
              "\n",
              "function displayQuickchartButton(domScope) {\n",
              "  let quickchartButtonEl =\n",
              "    domScope.querySelector('#df-6969d365-2b13-437d-a645-e3c7964d64ee button.colab-df-quickchart');\n",
              "  quickchartButtonEl.style.display =\n",
              "    google.colab.kernel.accessAllowed ? 'block' : 'none';\n",
              "}\n",
              "\n",
              "        displayQuickchartButton(document);\n",
              "      </script>\n",
              "      <style>\n",
              "    .colab-df-container {\n",
              "      display:flex;\n",
              "      flex-wrap:wrap;\n",
              "      gap: 12px;\n",
              "    }\n",
              "\n",
              "    .colab-df-convert {\n",
              "      background-color: #E8F0FE;\n",
              "      border: none;\n",
              "      border-radius: 50%;\n",
              "      cursor: pointer;\n",
              "      display: none;\n",
              "      fill: #1967D2;\n",
              "      height: 32px;\n",
              "      padding: 0 0 0 0;\n",
              "      width: 32px;\n",
              "    }\n",
              "\n",
              "    .colab-df-convert:hover {\n",
              "      background-color: #E2EBFA;\n",
              "      box-shadow: 0px 1px 2px rgba(60, 64, 67, 0.3), 0px 1px 3px 1px rgba(60, 64, 67, 0.15);\n",
              "      fill: #174EA6;\n",
              "    }\n",
              "\n",
              "    [theme=dark] .colab-df-convert {\n",
              "      background-color: #3B4455;\n",
              "      fill: #D2E3FC;\n",
              "    }\n",
              "\n",
              "    [theme=dark] .colab-df-convert:hover {\n",
              "      background-color: #434B5C;\n",
              "      box-shadow: 0px 1px 3px 1px rgba(0, 0, 0, 0.15);\n",
              "      filter: drop-shadow(0px 1px 2px rgba(0, 0, 0, 0.3));\n",
              "      fill: #FFFFFF;\n",
              "    }\n",
              "  </style>\n",
              "\n",
              "      <script>\n",
              "        const buttonEl =\n",
              "          document.querySelector('#df-4e6f7ea6-9d15-4ac8-9a3b-04f9c93fd7ad button.colab-df-convert');\n",
              "        buttonEl.style.display =\n",
              "          google.colab.kernel.accessAllowed ? 'block' : 'none';\n",
              "\n",
              "        async function convertToInteractive(key) {\n",
              "          const element = document.querySelector('#df-4e6f7ea6-9d15-4ac8-9a3b-04f9c93fd7ad');\n",
              "          const dataTable =\n",
              "            await google.colab.kernel.invokeFunction('convertToInteractive',\n",
              "                                                     [key], {});\n",
              "          if (!dataTable) return;\n",
              "\n",
              "          const docLinkHtml = 'Like what you see? Visit the ' +\n",
              "            '<a target=\"_blank\" href=https://colab.research.google.com/notebooks/data_table.ipynb>data table notebook</a>'\n",
              "            + ' to learn more about interactive tables.';\n",
              "          element.innerHTML = '';\n",
              "          dataTable['output_type'] = 'display_data';\n",
              "          await google.colab.output.renderOutput(dataTable, element);\n",
              "          const docLink = document.createElement('div');\n",
              "          docLink.innerHTML = docLinkHtml;\n",
              "          element.appendChild(docLink);\n",
              "        }\n",
              "      </script>\n",
              "    </div>\n",
              "  </div>\n"
            ]
          },
          "metadata": {},
          "execution_count": 47
        }
      ]
    },
    {
      "cell_type": "code",
      "source": [
        "# Rename columns for readability\n",
        "column_names = [\n",
        "    \"Profile Link\", \"Profile Code\", \"Profile Image\", \"Gig Link\", \"Freelancer Name\", \"Level\", \"Description\",\n",
        "    \"Rating Score\", \"Ratings Count Convert\", \"Reviews Count\", \"Price\"\n",
        "]\n",
        "df.columns = column_names\n",
        "\n",
        "# Remove dashes from column names\n",
        "df.columns = df.columns.str.replace(' ', '_')"
      ],
      "metadata": {
        "id": "YXaNT1xaCnue"
      },
      "execution_count": 48,
      "outputs": []
    },
    {
      "cell_type": "code",
      "source": [
        "df.describe()"
      ],
      "metadata": {
        "colab": {
          "base_uri": "https://localhost:8080/",
          "height": 300
        },
        "id": "IuE_w9MyFN_i",
        "outputId": "1547b7de-2048-4be7-f064-5e95dbfd05ce"
      },
      "execution_count": 57,
      "outputs": [
        {
          "output_type": "execute_result",
          "data": {
            "text/plain": [
              "            Level  Rating_Score  Reviews_Count        Price\n",
              "count  289.000000    533.000000     533.000000  1008.000000\n",
              "mean     1.387543      4.944653       8.842402    50.502976\n",
              "std      0.488034      0.208545      18.363844    99.829020\n",
              "min      1.000000      3.000000       1.000000     1.000000\n",
              "25%      1.000000      5.000000       1.000000    10.000000\n",
              "50%      1.000000      5.000000       3.000000    20.000000\n",
              "75%      2.000000      5.000000       8.000000    48.000000\n",
              "max      2.000000      5.000000     154.000000   958.000000"
            ],
            "text/html": [
              "\n",
              "\n",
              "  <div id=\"df-2591a5ff-3cb0-423b-8831-88a11e480691\">\n",
              "    <div class=\"colab-df-container\">\n",
              "      <div>\n",
              "<style scoped>\n",
              "    .dataframe tbody tr th:only-of-type {\n",
              "        vertical-align: middle;\n",
              "    }\n",
              "\n",
              "    .dataframe tbody tr th {\n",
              "        vertical-align: top;\n",
              "    }\n",
              "\n",
              "    .dataframe thead th {\n",
              "        text-align: right;\n",
              "    }\n",
              "</style>\n",
              "<table border=\"1\" class=\"dataframe\">\n",
              "  <thead>\n",
              "    <tr style=\"text-align: right;\">\n",
              "      <th></th>\n",
              "      <th>Level</th>\n",
              "      <th>Rating_Score</th>\n",
              "      <th>Reviews_Count</th>\n",
              "      <th>Price</th>\n",
              "    </tr>\n",
              "  </thead>\n",
              "  <tbody>\n",
              "    <tr>\n",
              "      <th>count</th>\n",
              "      <td>289.000000</td>\n",
              "      <td>533.000000</td>\n",
              "      <td>533.000000</td>\n",
              "      <td>1008.000000</td>\n",
              "    </tr>\n",
              "    <tr>\n",
              "      <th>mean</th>\n",
              "      <td>1.387543</td>\n",
              "      <td>4.944653</td>\n",
              "      <td>8.842402</td>\n",
              "      <td>50.502976</td>\n",
              "    </tr>\n",
              "    <tr>\n",
              "      <th>std</th>\n",
              "      <td>0.488034</td>\n",
              "      <td>0.208545</td>\n",
              "      <td>18.363844</td>\n",
              "      <td>99.829020</td>\n",
              "    </tr>\n",
              "    <tr>\n",
              "      <th>min</th>\n",
              "      <td>1.000000</td>\n",
              "      <td>3.000000</td>\n",
              "      <td>1.000000</td>\n",
              "      <td>1.000000</td>\n",
              "    </tr>\n",
              "    <tr>\n",
              "      <th>25%</th>\n",
              "      <td>1.000000</td>\n",
              "      <td>5.000000</td>\n",
              "      <td>1.000000</td>\n",
              "      <td>10.000000</td>\n",
              "    </tr>\n",
              "    <tr>\n",
              "      <th>50%</th>\n",
              "      <td>1.000000</td>\n",
              "      <td>5.000000</td>\n",
              "      <td>3.000000</td>\n",
              "      <td>20.000000</td>\n",
              "    </tr>\n",
              "    <tr>\n",
              "      <th>75%</th>\n",
              "      <td>2.000000</td>\n",
              "      <td>5.000000</td>\n",
              "      <td>8.000000</td>\n",
              "      <td>48.000000</td>\n",
              "    </tr>\n",
              "    <tr>\n",
              "      <th>max</th>\n",
              "      <td>2.000000</td>\n",
              "      <td>5.000000</td>\n",
              "      <td>154.000000</td>\n",
              "      <td>958.000000</td>\n",
              "    </tr>\n",
              "  </tbody>\n",
              "</table>\n",
              "</div>\n",
              "      <button class=\"colab-df-convert\" onclick=\"convertToInteractive('df-2591a5ff-3cb0-423b-8831-88a11e480691')\"\n",
              "              title=\"Convert this dataframe to an interactive table.\"\n",
              "              style=\"display:none;\">\n",
              "\n",
              "  <svg xmlns=\"http://www.w3.org/2000/svg\" height=\"24px\"viewBox=\"0 0 24 24\"\n",
              "       width=\"24px\">\n",
              "    <path d=\"M0 0h24v24H0V0z\" fill=\"none\"/>\n",
              "    <path d=\"M18.56 5.44l.94 2.06.94-2.06 2.06-.94-2.06-.94-.94-2.06-.94 2.06-2.06.94zm-11 1L8.5 8.5l.94-2.06 2.06-.94-2.06-.94L8.5 2.5l-.94 2.06-2.06.94zm10 10l.94 2.06.94-2.06 2.06-.94-2.06-.94-.94-2.06-.94 2.06-2.06.94z\"/><path d=\"M17.41 7.96l-1.37-1.37c-.4-.4-.92-.59-1.43-.59-.52 0-1.04.2-1.43.59L10.3 9.45l-7.72 7.72c-.78.78-.78 2.05 0 2.83L4 21.41c.39.39.9.59 1.41.59.51 0 1.02-.2 1.41-.59l7.78-7.78 2.81-2.81c.8-.78.8-2.07 0-2.86zM5.41 20L4 18.59l7.72-7.72 1.47 1.35L5.41 20z\"/>\n",
              "  </svg>\n",
              "      </button>\n",
              "\n",
              "\n",
              "\n",
              "    <div id=\"df-250d9bbe-e0e9-4f46-8866-a891f8734343\">\n",
              "      <button class=\"colab-df-quickchart\" onclick=\"quickchart('df-250d9bbe-e0e9-4f46-8866-a891f8734343')\"\n",
              "              title=\"Suggest charts.\"\n",
              "              style=\"display:none;\">\n",
              "\n",
              "<svg xmlns=\"http://www.w3.org/2000/svg\" height=\"24px\"viewBox=\"0 0 24 24\"\n",
              "     width=\"24px\">\n",
              "    <g>\n",
              "        <path d=\"M19 3H5c-1.1 0-2 .9-2 2v14c0 1.1.9 2 2 2h14c1.1 0 2-.9 2-2V5c0-1.1-.9-2-2-2zM9 17H7v-7h2v7zm4 0h-2V7h2v10zm4 0h-2v-4h2v4z\"/>\n",
              "    </g>\n",
              "</svg>\n",
              "      </button>\n",
              "    </div>\n",
              "\n",
              "<style>\n",
              "  .colab-df-quickchart {\n",
              "    background-color: #E8F0FE;\n",
              "    border: none;\n",
              "    border-radius: 50%;\n",
              "    cursor: pointer;\n",
              "    display: none;\n",
              "    fill: #1967D2;\n",
              "    height: 32px;\n",
              "    padding: 0 0 0 0;\n",
              "    width: 32px;\n",
              "  }\n",
              "\n",
              "  .colab-df-quickchart:hover {\n",
              "    background-color: #E2EBFA;\n",
              "    box-shadow: 0px 1px 2px rgba(60, 64, 67, 0.3), 0px 1px 3px 1px rgba(60, 64, 67, 0.15);\n",
              "    fill: #174EA6;\n",
              "  }\n",
              "\n",
              "  [theme=dark] .colab-df-quickchart {\n",
              "    background-color: #3B4455;\n",
              "    fill: #D2E3FC;\n",
              "  }\n",
              "\n",
              "  [theme=dark] .colab-df-quickchart:hover {\n",
              "    background-color: #434B5C;\n",
              "    box-shadow: 0px 1px 3px 1px rgba(0, 0, 0, 0.15);\n",
              "    filter: drop-shadow(0px 1px 2px rgba(0, 0, 0, 0.3));\n",
              "    fill: #FFFFFF;\n",
              "  }\n",
              "</style>\n",
              "\n",
              "    <script>\n",
              "      async function quickchart(key) {\n",
              "        const containerElement = document.querySelector('#' + key);\n",
              "        const charts = await google.colab.kernel.invokeFunction(\n",
              "            'suggestCharts', [key], {});\n",
              "      }\n",
              "    </script>\n",
              "\n",
              "      <script>\n",
              "\n",
              "function displayQuickchartButton(domScope) {\n",
              "  let quickchartButtonEl =\n",
              "    domScope.querySelector('#df-250d9bbe-e0e9-4f46-8866-a891f8734343 button.colab-df-quickchart');\n",
              "  quickchartButtonEl.style.display =\n",
              "    google.colab.kernel.accessAllowed ? 'block' : 'none';\n",
              "}\n",
              "\n",
              "        displayQuickchartButton(document);\n",
              "      </script>\n",
              "      <style>\n",
              "    .colab-df-container {\n",
              "      display:flex;\n",
              "      flex-wrap:wrap;\n",
              "      gap: 12px;\n",
              "    }\n",
              "\n",
              "    .colab-df-convert {\n",
              "      background-color: #E8F0FE;\n",
              "      border: none;\n",
              "      border-radius: 50%;\n",
              "      cursor: pointer;\n",
              "      display: none;\n",
              "      fill: #1967D2;\n",
              "      height: 32px;\n",
              "      padding: 0 0 0 0;\n",
              "      width: 32px;\n",
              "    }\n",
              "\n",
              "    .colab-df-convert:hover {\n",
              "      background-color: #E2EBFA;\n",
              "      box-shadow: 0px 1px 2px rgba(60, 64, 67, 0.3), 0px 1px 3px 1px rgba(60, 64, 67, 0.15);\n",
              "      fill: #174EA6;\n",
              "    }\n",
              "\n",
              "    [theme=dark] .colab-df-convert {\n",
              "      background-color: #3B4455;\n",
              "      fill: #D2E3FC;\n",
              "    }\n",
              "\n",
              "    [theme=dark] .colab-df-convert:hover {\n",
              "      background-color: #434B5C;\n",
              "      box-shadow: 0px 1px 3px 1px rgba(0, 0, 0, 0.15);\n",
              "      filter: drop-shadow(0px 1px 2px rgba(0, 0, 0, 0.3));\n",
              "      fill: #FFFFFF;\n",
              "    }\n",
              "  </style>\n",
              "\n",
              "      <script>\n",
              "        const buttonEl =\n",
              "          document.querySelector('#df-2591a5ff-3cb0-423b-8831-88a11e480691 button.colab-df-convert');\n",
              "        buttonEl.style.display =\n",
              "          google.colab.kernel.accessAllowed ? 'block' : 'none';\n",
              "\n",
              "        async function convertToInteractive(key) {\n",
              "          const element = document.querySelector('#df-2591a5ff-3cb0-423b-8831-88a11e480691');\n",
              "          const dataTable =\n",
              "            await google.colab.kernel.invokeFunction('convertToInteractive',\n",
              "                                                     [key], {});\n",
              "          if (!dataTable) return;\n",
              "\n",
              "          const docLinkHtml = 'Like what you see? Visit the ' +\n",
              "            '<a target=\"_blank\" href=https://colab.research.google.com/notebooks/data_table.ipynb>data table notebook</a>'\n",
              "            + ' to learn more about interactive tables.';\n",
              "          element.innerHTML = '';\n",
              "          dataTable['output_type'] = 'display_data';\n",
              "          await google.colab.output.renderOutput(dataTable, element);\n",
              "          const docLink = document.createElement('div');\n",
              "          docLink.innerHTML = docLinkHtml;\n",
              "          element.appendChild(docLink);\n",
              "        }\n",
              "      </script>\n",
              "    </div>\n",
              "  </div>\n"
            ]
          },
          "metadata": {},
          "execution_count": 57
        }
      ]
    },
    {
      "cell_type": "markdown",
      "source": [
        "## Data Preprocessing\n"
      ],
      "metadata": {
        "id": "06S6_2BtFOvE"
      }
    },
    {
      "cell_type": "code",
      "source": [
        "# Extract relevant information (name, level, rating, price) from the available columns\n",
        "df['Price'] = df['Price'].str.extract(r'€(\\d+)').astype(float)"
      ],
      "metadata": {
        "id": "eS130rmsFMcu"
      },
      "execution_count": 50,
      "outputs": []
    },
    {
      "cell_type": "code",
      "source": [
        "df['User_Name'] = df['Gig_Link'].str.split('/').str[-1].str.split('?').str[0]"
      ],
      "metadata": {
        "id": "KzioCMvvERq2"
      },
      "execution_count": 51,
      "outputs": []
    },
    {
      "cell_type": "code",
      "source": [
        "df['Level'] = df['Level'].str.extract(r'Level (\\d+)').astype(float)\n",
        "df['Rating_Score'] = df['Rating_Score'].astype(float)"
      ],
      "metadata": {
        "id": "abrUShd8FxfY"
      },
      "execution_count": 53,
      "outputs": []
    },
    {
      "cell_type": "code",
      "source": [
        "num_nan = df['Level'].isna().sum()\n",
        "num_not_nan = df['Level'].notna().sum()"
      ],
      "metadata": {
        "id": "AnZsfJ7q-xcy"
      },
      "execution_count": 54,
      "outputs": []
    },
    {
      "cell_type": "code",
      "source": [
        "num_not_nan"
      ],
      "metadata": {
        "colab": {
          "base_uri": "https://localhost:8080/"
        },
        "id": "bJj-7BaE_D-9",
        "outputId": "5bb96747-dda1-49c3-95b0-08f50ccf2792"
      },
      "execution_count": 56,
      "outputs": [
        {
          "output_type": "execute_result",
          "data": {
            "text/plain": [
              "289"
            ]
          },
          "metadata": {},
          "execution_count": 56
        }
      ]
    },
    {
      "cell_type": "markdown",
      "source": [
        "## *Answer Pain Questions*"
      ],
      "metadata": {
        "id": "c2JiNMf5GjRU"
      }
    },
    {
      "cell_type": "code",
      "source": [
        "mean_rating = df['Rating_Score'].mean()\n",
        "median_price = df['Price'].median()\n",
        "std_dev_orders = df['Reviews_Count'].std()"
      ],
      "metadata": {
        "id": "ZLV5Wsms9fyd"
      },
      "execution_count": 58,
      "outputs": []
    },
    {
      "cell_type": "code",
      "source": [
        "print(df[['Freelancer_Name', 'Level', 'Rating_Score', 'Price']])"
      ],
      "metadata": {
        "colab": {
          "base_uri": "https://localhost:8080/"
        },
        "id": "F6wuROGY83bR",
        "outputId": "50444e9c-b372-4880-87da-ce8f998e469d"
      },
      "execution_count": 59,
      "outputs": [
        {
          "output_type": "stream",
          "name": "stdout",
          "text": [
            "      Freelancer_Name  Level  Rating_Score  Price\n",
            "0          Masdouk A.    NaN           5.0   96.0\n",
            "1          Emmanuel O    2.0           5.0   10.0\n",
            "2           Steve Joe    1.0           5.0   15.0\n",
            "3          Crm Expert    NaN           4.3    5.0\n",
            "4                Joel    NaN           4.9   96.0\n",
            "...               ...    ...           ...    ...\n",
            "1003      Zoho Expert    NaN           NaN   58.0\n",
            "1004            Ikram    NaN           5.0   15.0\n",
            "1005    Gazal Folarin    1.0           NaN   20.0\n",
            "1006  johnny_johnny01    NaN           NaN    5.0\n",
            "1007         Victor F    NaN           NaN    5.0\n",
            "\n",
            "[1008 rows x 4 columns]\n"
          ]
        }
      ]
    },
    {
      "cell_type": "code",
      "source": [
        "# Assuming you have already loaded and preprocessed the data into the df DataFrame\n",
        "\n",
        "# Select relevant columns for correlation analysis\n",
        "correlation_columns = [\"Level\", \"Rating_Score\", \"Price\"]\n",
        "correlation_df = df[correlation_columns]\n",
        "\n",
        "# Calculate the correlation matrix\n",
        "correlation_matrix = correlation_df.corr()\n",
        "\n",
        "# Visualize the correlation matrix as a heatmap\n",
        "plt.figure(figsize=(8, 6))\n",
        "sns.heatmap(data=correlation_matrix, annot=True, cmap=\"coolwarm\", vmin=-1, vmax=1)\n",
        "plt.title(\"Correlation Heatmap\")\n",
        "plt.show()\n"
      ],
      "metadata": {
        "colab": {
          "base_uri": "https://localhost:8080/",
          "height": 545
        },
        "id": "OjGu_wieATzH",
        "outputId": "c54cbd2c-2ae8-43c0-89a7-31d5186b5d40"
      },
      "execution_count": 60,
      "outputs": [
        {
          "output_type": "display_data",
          "data": {
            "text/plain": [
              "<Figure size 800x600 with 2 Axes>"
            ],
            "image/png": "[encoded data removed]"
          },
          "metadata": {}
        }
      ]
    },
    {
      "cell_type": "code",
      "execution_count": null,
      "metadata": {
        "id": "8kehZN0hBKpd"
      },
      "outputs": [],
      "source": [
        "# Answer Pain Questions\n",
        "# Example questions: What services does each seller provide? What is their pricing? What is their expertise level?\n",
        "# Print a summary of the extracted information\n",
        "print(df[['name', 'level', 'rating', 'price']])\n",
        "\n",
        "# Data Analysis and Correlation\n",
        "# Calculate statistical measures for variables like ratings, number of orders, and prices\n",
        "\n",
        "\n",
        "# Calculate correlation between price and level\n",
        "correlation_price_level = df['price'].corr(df['level'].astype(float))\n",
        "\n",
        "# Print the calculated statistics\n",
        "print(f\"Mean Rating: {mean_rating:.2f}\")\n",
        "print(f\"Median Price: €{median_price:.2f}\")\n",
        "print(f\"Standard Deviation of Orders: {std_dev_orders:.2f}\")\n",
        "print(f\"Correlation between Price and Level: {correlation_price_level:.2f}\")\n",
        "\n",
        "# Visualization\n",
        "# Create a scatter plot to visualize the correlation between price and level\n",
        "plt.figure(figsize=(10, 6))\n",
        "sns.scatterplot(data=df, x='price', y='level', hue='rating', size='ratings-count', sizes=(30, 200))\n",
        "plt.title('Correlation between Price and Level')\n",
        "plt.xlabel('Price (€)')\n",
        "plt.ylabel('Level')\n",
        "plt.show()\n",
        "\n",
        "# Analyzing CRM System Popularity and NaN Values\n",
        "# Let's see the most popular CRM system from the seller's side\n",
        "popular_crm = df['media_href'].str.extract(r'fiverr.com/([^/]+)').value_counts().idxmax()\n",
        "\n",
        "# Count NaN values in the level column for each CRM system\n",
        "nan_count_by_crm = df.groupby('media_href')['level'].apply(lambda x: x.isna().sum())\n",
        "\n",
        "# Print the results\n",
        "print(f\"Most Popular CRM System for Sellers: {popular_crm}\")\n",
        "print(\"NaN Counts by CRM System:\")\n",
        "print(nan_count_by_crm)"
      ]
    },
    {
      "cell_type": "code",
      "source": [
        "df.head(10)"
      ],
      "metadata": {
        "id": "ci-PkXncCBP0"
      },
      "execution_count": null,
      "outputs": []
    },
    {
      "source": [
        "import numpy as np\n",
        "from google.colab import autoviz\n",
        "\n",
        "def violin_plot(df, value_colname, facet_colname, figscale=1, mpl_palette_name='Dark2', **kwargs):\n",
        "  from matplotlib import pyplot as plt\n",
        "  import seaborn as sns\n",
        "  figsize = (12 * figscale, 1.2 * figscale * len(df[facet_colname].unique()))\n",
        "  plt.figure(figsize=figsize)\n",
        "  sns.violinplot(df, x=value_colname, y=facet_colname, palette=mpl_palette_name, **kwargs)\n",
        "  sns.despine(top=True, right=True, bottom=True, left=True)\n",
        "  return autoviz.MplChart.from_current_mpl_state()\n",
        "\n",
        "chart = violin_plot(_df_33, *['index', 'tbody-6'], **{'inner': 'stick'})\n",
        "chart"
      ],
      "cell_type": "code",
      "metadata": {
        "id": "LQoYk2qPDAkl"
      },
      "execution_count": null,
      "outputs": []
    },
    {
      "source": [
        "import numpy as np\n",
        "from google.colab import autoviz\n",
        "\n",
        "def violin_plot(df, value_colname, facet_colname, figscale=1, mpl_palette_name='Dark2', **kwargs):\n",
        "  from matplotlib import pyplot as plt\n",
        "  import seaborn as sns\n",
        "  figsize = (12 * figscale, 1.2 * figscale * len(df[facet_colname].unique()))\n",
        "  plt.figure(figsize=figsize)\n",
        "  sns.violinplot(df, x=value_colname, y=facet_colname, palette=mpl_palette_name, **kwargs)\n",
        "  sns.despine(top=True, right=True, bottom=True, left=True)\n",
        "  return autoviz.MplChart.from_current_mpl_state()\n",
        "\n",
        "chart = violin_plot(_df_33, *['index', 'tbody-6'], **{'inner': 'stick'})\n",
        "chart"
      ],
      "cell_type": "code",
      "metadata": {
        "id": "YVQMk5YiDJbt"
      },
      "execution_count": null,
      "outputs": []
    },
    {
      "source": [
        "import numpy as np\n",
        "from google.colab import autoviz\n",
        "\n",
        "def violin_plot(df, value_colname, facet_colname, figscale=1, mpl_palette_name='Dark2', **kwargs):\n",
        "  from matplotlib import pyplot as plt\n",
        "  import seaborn as sns\n",
        "  figsize = (12 * figscale, 1.2 * figscale * len(df[facet_colname].unique()))\n",
        "  plt.figure(figsize=figsize)\n",
        "  sns.violinplot(df, x=value_colname, y=facet_colname, palette=mpl_palette_name, **kwargs)\n",
        "  sns.despine(top=True, right=True, bottom=True, left=True)\n",
        "  return autoviz.MplChart.from_current_mpl_state()\n",
        "\n",
        "chart = violin_plot(_df_14, *['index', 'text-bold 2'], **{'inner': 'stick'})\n",
        "chart"
      ],
      "cell_type": "code",
      "metadata": {
        "id": "_zAvTrnfC-yN"
      },
      "execution_count": null,
      "outputs": []
    },
    {
      "cell_type": "code",
      "source": [
        "\n",
        "# Print the updated column names\n",
        "print(\"Updated Column Names:\")\n",
        "print(df.columns)\n",
        "\n",
        "# Continue with the rest of the code as provided in the previous response..."
      ],
      "metadata": {
        "id": "jybFpQbiDz7C"
      },
      "execution_count": null,
      "outputs": []
    },
    {
      "cell_type": "code",
      "source": [],
      "metadata": {
        "id": "YmApG3odEfq4"
      },
      "execution_count": null,
      "outputs": []
    }
  ]
}